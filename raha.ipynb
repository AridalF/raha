{
 "cells": [
  {
   "cell_type": "markdown",
   "metadata": {},
   "source": [
    "# Raha"
   ]
  },
  {
   "cell_type": "markdown",
   "metadata": {},
   "source": [
    "Welcome to Raha, a configuration-free error detection system!  \n",
    "In this notebook, we will demonstrate this system. In particular, we will learn how we can simply detect data errors in a dataset via Raha."
   ]
  },
  {
   "cell_type": "markdown",
   "metadata": {},
   "source": [
    "## 1. Loading Raha"
   ]
  },
  {
   "cell_type": "markdown",
   "metadata": {},
   "source": [
    "We first need to import the raha package. We may need to install some Python 3 modules via `pip` by using the command <br>\n",
    "`pip3 install -r requirements.txt`. The `%matplotlib widget` line allows for interactive graphs but is not required for raha. Please use `%matplotlib notebook` if using Jupyter Notebook and `%matplotlib widget` if using Jupyter Lab."
   ]
  },
  {
   "cell_type": "code",
   "execution_count": 1,
   "metadata": {},
   "outputs": [],
   "source": [
    "%matplotlib widget\n",
    "import raha"
   ]
  },
  {
   "cell_type": "markdown",
   "metadata": {},
   "source": [
    "## 2. Instantiating and Running the Raha Object"
   ]
  },
  {
   "cell_type": "markdown",
   "metadata": {},
   "source": [
    "We next instantiate a Raha object. To this end, we just need to create a simple dictionary as follows. Please use the full path to the `.csv` files in this dictionary. Then we pass it to the Raha `run` method and follow the intructions in the interactive system."
   ]
  },
  {
   "cell_type": "code",
   "execution_count": 2,
   "metadata": {},
   "outputs": [
    {
     "data": {
      "application/vnd.jupyter.widget-view+json": {
       "model_id": "cf192840094d4de1afdcfd170dde4c5f",
       "version_major": 2,
       "version_minor": 0
      },
      "text/plain": [
       "Output()"
      ]
     },
     "metadata": {},
     "output_type": "display_data"
    }
   ],
   "source": [
    "import os\n",
    "dataset_dictionary = {\n",
    "    \"name\": \"flights\",\n",
    "    \"path\": os.path.abspath(\"datasets/flights/dirty.csv\")\n",
    "}\n",
    "application = raha.Raha()\n",
    "application.run(dataset_dictionary)"
   ]
  },
  {
   "cell_type": "code",
   "execution_count": null,
   "metadata": {},
   "outputs": [],
   "source": []
  }
 ],
 "metadata": {
  "kernelspec": {
   "display_name": "Python 3",
   "language": "python",
   "name": "python3"
  },
  "language_info": {
   "codemirror_mode": {
    "name": "ipython",
    "version": 3
   },
   "file_extension": ".py",
   "mimetype": "text/x-python",
   "name": "python",
   "nbconvert_exporter": "python",
   "pygments_lexer": "ipython3",
   "version": "3.6.8"
  }
 },
 "nbformat": 4,
 "nbformat_minor": 4
}
